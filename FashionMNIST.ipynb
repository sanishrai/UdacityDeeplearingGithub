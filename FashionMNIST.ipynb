{
  "nbformat": 4,
  "nbformat_minor": 0,
  "metadata": {
    "colab": {
      "name": "FashionMNIST.ipynb",
      "provenance": [],
      "authorship_tag": "ABX9TyPDGtSlWQz9WOSqCqYTWq+p",
      "include_colab_link": true
    },
    "kernelspec": {
      "name": "python3",
      "display_name": "Python 3"
    },
    "language_info": {
      "name": "python"
    },
    "accelerator": "GPU"
  },
  "cells": [
    {
      "cell_type": "markdown",
      "metadata": {
        "id": "view-in-github",
        "colab_type": "text"
      },
      "source": [
        "<a href=\"https://colab.research.google.com/github/sanishrai/UdacityDeeplearingGithub/blob/master/FashionMNIST.ipynb\" target=\"_parent\"><img src=\"https://colab.research.google.com/assets/colab-badge.svg\" alt=\"Open In Colab\"/></a>"
      ]
    },
    {
      "cell_type": "code",
      "metadata": {
        "id": "gbQH47dav5ff"
      },
      "source": [
        "%matplotlib inline\n",
        "%config InlineBackend.figure_format = 'retina'\n",
        "\n",
        "import numpy as np\n",
        "import torch\n",
        "import helper\n",
        "import matplotlib.pyplot as plt"
      ],
      "execution_count": 1,
      "outputs": []
    },
    {
      "cell_type": "code",
      "metadata": {
        "id": "hKVyCki9uWMk"
      },
      "source": [
        "from torch import nn,optim\n",
        "import torch.nn.functional as F\n",
        "\n",
        "class Network(nn.Module):\n",
        "  def __init__(self):\n",
        "    super().__init__()\n",
        "    self.hidden1 = nn.Linear(784,256)\n",
        "    self.hidden2 = nn.Linear(256,128)\n",
        "    self.hidden3 = nn.Linear(128,64)\n",
        "    self.output = nn.Linear(64,10)\n",
        "\n",
        "  def forward (self,x):\n",
        "     # make sure input tensor is flattened\n",
        "    x = x.view(x.shape[0], -1)\n",
        "    x=F.relu(self.hidden1(x))\n",
        "    x=F.relu(self.hidden2(x))\n",
        "    x=F.relu(self.hidden3(x))\n",
        "    x=F.log_softmax(self.output(x),dim=1)\n",
        "\n",
        "    return x"
      ],
      "execution_count": 2,
      "outputs": []
    },
    {
      "cell_type": "code",
      "metadata": {
        "id": "mqrdzfVn9Lgj"
      },
      "source": [
        "\n",
        "class Network_Drop(nn.Module):\n",
        "  def __init__(self):\n",
        "    super().__init__()\n",
        "    self.hidden1 = nn.Linear(784,256)\n",
        "    self.hidden2 = nn.Linear(256,128)\n",
        "    self.hidden3 = nn.Linear(128,64)\n",
        "    self.output = nn.Linear(64,10)\n",
        "    # Dropout module with 0.2 drop probability\n",
        "    self.dropout = nn.Dropout(p=0.3)\n",
        "  def forward (self,x):\n",
        "     # make sure input tensor is flattened\n",
        "    x = x.view(x.shape[0], -1)\n",
        "    x=self.dropout(F.relu(self.hidden1(x)))\n",
        "    x=self.dropout(F.relu(self.hidden2(x)))\n",
        "    x=self.dropout(F.relu(self.hidden3(x)))\n",
        "    x=F.log_softmax(self.output(x),dim=1)\n",
        "\n",
        "    return x"
      ],
      "execution_count": 14,
      "outputs": []
    },
    {
      "cell_type": "code",
      "metadata": {
        "id": "7tful6bHvKF9"
      },
      "source": [
        "from torchvision import datasets, transforms\n",
        "#a transform to normalize data\n",
        "transform = transforms.Compose([transforms.ToTensor(),\n",
        "                                transforms.Normalize((0.5,),(0.5,)),\n",
        "                                ])\n",
        "#Download the data\n",
        "# train = datasets.MNIST('MNIST_data/',download=True,train=True,transform=transform)\n",
        "# train_loader = torch.utils.data.DataLoader(train, batch_size=64,shuffle=True)\n",
        "trainset = datasets.FashionMNIST(\"FashionData/\", train = True, download = True, transform = transform)\n",
        "testset = datasets.FashionMNIST(\"FashionDataTest/\", train = False, download = True, transform = transform)\n",
        "\n",
        "train_loader = torch.utils.data.DataLoader(trainset, batch_size=64,shuffle=True)\n",
        "test_loader = torch.utils.data.DataLoader(testset, batch_size=64,shuffle=True)\n",
        "\n"
      ],
      "execution_count": 4,
      "outputs": []
    },
    {
      "cell_type": "code",
      "metadata": {
        "colab": {
          "base_uri": "https://localhost:8080/"
        },
        "id": "OFnfgjiCvYR4",
        "outputId": "5e3d04fe-26e5-45af-da82-0821136e3d5e"
      },
      "source": [
        "from tqdm import tqdm\n",
        "model = Network()\n",
        "#print(model)\n",
        "#define loss\n",
        "criterion = nn.NLLLoss()\n",
        "#get optimizer\n",
        "optimizer = optim.Adam(model.parameters(),lr=0.003)\n",
        "epochs = 10\n",
        "for e in tqdm(range(epochs)):\n",
        "  running_loss=0\n",
        "  for images, labels in train_loader:\n",
        "    #flatten images\n",
        "    optimizer.zero_grad() #clear gradient\n",
        "    #forward pass in the model\n",
        "    y = model(images)\n",
        "    loss = criterion(y, labels)\n",
        "    loss.backward()\n",
        "    optimizer.step()\n",
        "    running_loss+=loss.item()\n",
        "\n",
        "  else:\n",
        "    print(f\"Training loss:{running_loss/len(train_loader)}\")"
      ],
      "execution_count": 39,
      "outputs": [
        {
          "output_type": "stream",
          "text": [
            "\n",
            "  0%|          | 0/10 [00:00<?, ?it/s]\u001b[A\n",
            " 10%|█         | 1/10 [00:12<01:53, 12.56s/it]\u001b[A"
          ],
          "name": "stderr"
        },
        {
          "output_type": "stream",
          "text": [
            "Training loss:0.525797322440122\n"
          ],
          "name": "stdout"
        },
        {
          "output_type": "stream",
          "text": [
            "\n",
            " 20%|██        | 2/10 [00:25<01:42, 12.79s/it]\u001b[A"
          ],
          "name": "stderr"
        },
        {
          "output_type": "stream",
          "text": [
            "Training loss:0.3964446272327702\n"
          ],
          "name": "stdout"
        },
        {
          "output_type": "stream",
          "text": [
            "\n",
            " 30%|███       | 3/10 [00:38<01:29, 12.86s/it]\u001b[A"
          ],
          "name": "stderr"
        },
        {
          "output_type": "stream",
          "text": [
            "Training loss:0.3590776974331341\n"
          ],
          "name": "stdout"
        },
        {
          "output_type": "stream",
          "text": [
            "\n",
            " 40%|████      | 4/10 [00:52<01:18, 13.05s/it]\u001b[A"
          ],
          "name": "stderr"
        },
        {
          "output_type": "stream",
          "text": [
            "Training loss:0.3349972019698828\n"
          ],
          "name": "stdout"
        },
        {
          "output_type": "stream",
          "text": [
            "\n",
            " 50%|█████     | 5/10 [01:06<01:06, 13.29s/it]\u001b[A"
          ],
          "name": "stderr"
        },
        {
          "output_type": "stream",
          "text": [
            "Training loss:0.3213653120436648\n"
          ],
          "name": "stdout"
        },
        {
          "output_type": "stream",
          "text": [
            "\n",
            " 60%|██████    | 6/10 [01:20<00:53, 13.49s/it]\u001b[A"
          ],
          "name": "stderr"
        },
        {
          "output_type": "stream",
          "text": [
            "Training loss:0.3073259228502891\n"
          ],
          "name": "stdout"
        },
        {
          "output_type": "stream",
          "text": [
            "\n",
            " 70%|███████   | 7/10 [01:34<00:40, 13.66s/it]\u001b[A"
          ],
          "name": "stderr"
        },
        {
          "output_type": "stream",
          "text": [
            "Training loss:0.293826510911303\n"
          ],
          "name": "stdout"
        },
        {
          "output_type": "stream",
          "text": [
            "\n",
            " 80%|████████  | 8/10 [01:48<00:27, 13.74s/it]\u001b[A"
          ],
          "name": "stderr"
        },
        {
          "output_type": "stream",
          "text": [
            "Training loss:0.2871929146667152\n"
          ],
          "name": "stdout"
        },
        {
          "output_type": "stream",
          "text": [
            "\n",
            " 90%|█████████ | 9/10 [02:02<00:13, 13.82s/it]\u001b[A"
          ],
          "name": "stderr"
        },
        {
          "output_type": "stream",
          "text": [
            "Training loss:0.272451898198265\n"
          ],
          "name": "stdout"
        },
        {
          "output_type": "stream",
          "text": [
            "\n",
            "100%|██████████| 10/10 [02:15<00:00, 13.60s/it]"
          ],
          "name": "stderr"
        },
        {
          "output_type": "stream",
          "text": [
            "Training loss:0.26742581720513575\n"
          ],
          "name": "stdout"
        },
        {
          "output_type": "stream",
          "text": [
            "\n"
          ],
          "name": "stderr"
        }
      ]
    },
    {
      "cell_type": "code",
      "metadata": {
        "colab": {
          "base_uri": "https://localhost:8080/",
          "height": 315
        },
        "id": "V9-0DJ8Hw7Th",
        "outputId": "30f7ea80-996e-4aaa-84e3-393013afc271"
      },
      "source": [
        "%matplotlib inline\n",
        "import helper\n",
        "import matplotlib.pyplot as plt\n",
        "\n",
        "images, labels = next(iter(train_loader))\n",
        "img = images[0].view(1,784)\n",
        "with torch.no_grad():\n",
        "  logits = model(img)\n",
        "\n",
        "ps = F.softmax(logits,dim=1)\n",
        "print(ps[0])\n",
        "plt.imshow(img.view(1,28,28).numpy().squeeze(),cmap='gray')"
      ],
      "execution_count": 18,
      "outputs": [
        {
          "output_type": "stream",
          "text": [
            "tensor([4.6622e-12, 8.3385e-11, 7.1056e-12, 1.8434e-10, 6.8977e-12, 1.3317e-03,\n",
            "        1.6169e-08, 9.9848e-01, 7.9106e-07, 1.8612e-04])\n"
          ],
          "name": "stdout"
        },
        {
          "output_type": "execute_result",
          "data": {
            "text/plain": [
              "<matplotlib.image.AxesImage at 0x7f66849fdad0>"
            ]
          },
          "metadata": {
            "tags": []
          },
          "execution_count": 18
        },
        {
          "output_type": "display_data",
          "data": {
            "image/png": "[encoded data removed]",
            "text/plain": [
              "<Figure size 432x288 with 1 Axes>"
            ]
          },
          "metadata": {
            "tags": [],
            "image/png": {
              "width": 251,
              "height": 248
            },
            "needs_background": "light"
          }
        }
      ]
    },
    {
      "cell_type": "markdown",
      "metadata": {
        "id": "Ces5Nte_yEGW"
      },
      "source": [
        "# Validation"
      ]
    },
    {
      "cell_type": "code",
      "metadata": {
        "colab": {
          "base_uri": "https://localhost:8080/"
        },
        "id": "vskrKRpbyGWU",
        "outputId": "956e04b9-8942-4dc5-d808-4757a3f472a3"
      },
      "source": [
        "modelClassifier = Network()\n",
        "criterion = nn.NLLLoss()\n",
        "optimizer = optim.Adam(model.parameters(),lr=0.003)\n",
        "\n",
        "epochs =5\n",
        "steps =0\n",
        "test_loader = torch.utils.data.DataLoader(testset, batch_size=64,shuffle=True)\n",
        "\n",
        "\n",
        "test_accuracy=0\n",
        "for images, labels in test_loader:\n",
        "  with torch.no_grad():\n",
        "    loss=0\n",
        "    accuracy=0\n",
        "    img = images\n",
        "    logits = model(img)\n",
        "    ps = F.softmax(logits,dim=1)\n",
        "    top_p, top_class = ps.topk(1,dim=1)\n",
        "    # print(ps)\n",
        "    # print(top_class.shape)\n",
        "    # print(labels.shape)\n",
        "    equals = top_class == labels.view(*top_class.shape)\n",
        "    accuracy = torch.mean(equals.type(torch.FloatTensor))\n",
        "    loss += criterion(logits,labels)\n",
        "    test_accuracy+=accuracy.item()\n",
        "\n",
        "print(\"accuracy \",test_accuracy)\n",
        "print(\"loss \",loss)\n",
        "\n",
        "\n",
        "\n",
        "\n",
        "\n"
      ],
      "execution_count": 40,
      "outputs": [
        {
          "output_type": "stream",
          "text": [
            "accuracy  136.59375\n",
            "loss  tensor(0.3877)\n"
          ],
          "name": "stdout"
        }
      ]
    },
    {
      "cell_type": "code",
      "metadata": {
        "colab": {
          "base_uri": "https://localhost:8080/"
        },
        "id": "umG1uF4_3zCd",
        "outputId": "e077e7c0-e88a-43ca-b4d0-8f7beaefb4b8"
      },
      "source": [
        "model = Network()\n",
        "\n",
        "images, labels = next(iter(test_loader))\n",
        "# Get the class probabilities\n",
        "ps = torch.exp(model(images))\n",
        "# Make sure the shape is appropriate, we should get 10 class probabilities for 64 examples\n",
        "print(ps.shape)"
      ],
      "execution_count": 34,
      "outputs": [
        {
          "output_type": "stream",
          "text": [
            "torch.Size([64, 10])\n"
          ],
          "name": "stdout"
        }
      ]
    },
    {
      "cell_type": "markdown",
      "metadata": {
        "id": "mI_TgYgi5bDK"
      },
      "source": [
        "# Train and Test together"
      ]
    },
    {
      "cell_type": "code",
      "metadata": {
        "colab": {
          "base_uri": "https://localhost:8080/"
        },
        "id": "b92Y9Zac6lzx",
        "outputId": "bc32f815-7cf5-401e-8ee4-e6f333c015c1"
      },
      "source": [
        "if torch.cuda.is_available():  \n",
        "  dev = \"cuda:0\" \n",
        "else:  \n",
        "  dev = \"cpu\"  \n",
        "device = torch.device(dev) \n",
        "print(device)"
      ],
      "execution_count": 6,
      "outputs": [
        {
          "output_type": "stream",
          "text": [
            "cuda:0\n"
          ],
          "name": "stdout"
        }
      ]
    },
    {
      "cell_type": "code",
      "metadata": {
        "colab": {
          "base_uri": "https://localhost:8080/"
        },
        "id": "ysLE_pMs5ase",
        "outputId": "282e7766-bc03-428b-b59a-c5ad26ab3276"
      },
      "source": [
        "model = Network_Drop()\n",
        "model.to(dev)\n",
        "criterion = nn.NLLLoss(reduction='sum')\n",
        "optimizer = optim.Adam(model.parameters(), lr=0.003)\n",
        "\n",
        "epochs = 20\n",
        "\n",
        "train_losses, test_losses = [], []\n",
        "for e in range(epochs):\n",
        "    tot_train_loss = 0\n",
        "    for images, labels in train_loader:\n",
        "        images = images.to(dev)\n",
        "        labels = labels.to(dev)\n",
        "        optimizer.zero_grad()\n",
        "        \n",
        "        log_ps = model(images).to(dev)\n",
        "        loss = criterion(log_ps, labels).to(dev)\n",
        "        tot_train_loss += loss.item()\n",
        "        \n",
        "        loss.backward()\n",
        "        optimizer.step()\n",
        "    else:\n",
        "        tot_test_loss = 0\n",
        "        test_correct = 0  # Number of correct predictions on the test set\n",
        "        \n",
        "        # Turn off gradients for validation, saves memory and computations\n",
        "        with torch.no_grad():\n",
        "            for images, labels in test_loader:\n",
        "                images = images.to(dev)\n",
        "                labels = labels.to(dev)\n",
        "                log_ps = model(images).to(dev)\n",
        "                loss = criterion(log_ps, labels).to(dev)\n",
        "                tot_test_loss += loss.item()\n",
        "\n",
        "                ps = torch.exp(log_ps).to(dev)\n",
        "                top_p, top_class = ps.topk(1, dim=1)\n",
        "                equals = top_class == labels.view(*top_class.shape)\n",
        "                test_correct += equals.sum().item()\n",
        "\n",
        "        # Get mean loss to enable comparison between train and test sets\n",
        "        train_loss = tot_train_loss / len(train_loader.dataset)\n",
        "        test_loss = tot_test_loss / len(test_loader.dataset)\n",
        "\n",
        "        # At completion of epoch\n",
        "        train_losses.append(train_loss)\n",
        "        test_losses.append(test_loss)\n",
        "\n",
        "        print(\"Epoch: {}/{}.. \".format(e+1, epochs),\n",
        "              \"Training Loss: {:.3f}.. \".format(train_loss),\n",
        "              \"Test Loss: {:.3f}.. \".format(test_loss),\n",
        "              \"Test Accuracy: {:.3f}\".format(test_correct / len(test_loader.dataset)))"
      ],
      "execution_count": 15,
      "outputs": [
        {
          "output_type": "stream",
          "text": [
            "Epoch: 1/20..  Training Loss: 0.665..  Test Loss: 0.572..  Test Accuracy: 0.804\n",
            "Epoch: 2/20..  Training Loss: 0.535..  Test Loss: 0.559..  Test Accuracy: 0.816\n",
            "Epoch: 3/20..  Training Loss: 0.503..  Test Loss: 0.522..  Test Accuracy: 0.821\n",
            "Epoch: 4/20..  Training Loss: 0.489..  Test Loss: 0.539..  Test Accuracy: 0.819\n",
            "Epoch: 5/20..  Training Loss: 0.475..  Test Loss: 0.519..  Test Accuracy: 0.824\n",
            "Epoch: 6/20..  Training Loss: 0.470..  Test Loss: 0.513..  Test Accuracy: 0.828\n",
            "Epoch: 7/20..  Training Loss: 0.461..  Test Loss: 0.506..  Test Accuracy: 0.827\n",
            "Epoch: 8/20..  Training Loss: 0.450..  Test Loss: 0.504..  Test Accuracy: 0.826\n",
            "Epoch: 9/20..  Training Loss: 0.459..  Test Loss: 0.523..  Test Accuracy: 0.824\n",
            "Epoch: 10/20..  Training Loss: 0.442..  Test Loss: 0.516..  Test Accuracy: 0.823\n",
            "Epoch: 11/20..  Training Loss: 0.441..  Test Loss: 0.529..  Test Accuracy: 0.825\n",
            "Epoch: 12/20..  Training Loss: 0.451..  Test Loss: 0.512..  Test Accuracy: 0.829\n",
            "Epoch: 13/20..  Training Loss: 0.438..  Test Loss: 0.498..  Test Accuracy: 0.836\n",
            "Epoch: 14/20..  Training Loss: 0.428..  Test Loss: 0.503..  Test Accuracy: 0.840\n",
            "Epoch: 15/20..  Training Loss: 0.430..  Test Loss: 0.488..  Test Accuracy: 0.839\n",
            "Epoch: 16/20..  Training Loss: 0.431..  Test Loss: 0.508..  Test Accuracy: 0.830\n",
            "Epoch: 17/20..  Training Loss: 0.427..  Test Loss: 0.532..  Test Accuracy: 0.828\n",
            "Epoch: 18/20..  Training Loss: 0.424..  Test Loss: 0.505..  Test Accuracy: 0.831\n",
            "Epoch: 19/20..  Training Loss: 0.416..  Test Loss: 0.500..  Test Accuracy: 0.839\n",
            "Epoch: 20/20..  Training Loss: 0.429..  Test Loss: 0.570..  Test Accuracy: 0.821\n"
          ],
          "name": "stdout"
        }
      ]
    },
    {
      "cell_type": "code",
      "metadata": {
        "colab": {
          "base_uri": "https://localhost:8080/",
          "height": 282
        },
        "id": "gAQ9Plaj5ozI",
        "outputId": "f0a9fa6c-bfba-4414-8c02-0f8717530a21"
      },
      "source": [
        "%matplotlib inline\n",
        "%config InlineBackend.figure_format = 'retina'\n",
        "\n",
        "import matplotlib.pyplot as plt\n",
        "\n",
        "plt.plot(train_losses, label='Training loss')\n",
        "plt.plot(test_losses, label='Validation loss')\n",
        "plt.legend(frameon=False)"
      ],
      "execution_count": 12,
      "outputs": [
        {
          "output_type": "execute_result",
          "data": {
            "text/plain": [
              "<matplotlib.legend.Legend at 0x7f51c4b01bd0>"
            ]
          },
          "metadata": {
            "tags": []
          },
          "execution_count": 12
        },
        {
          "output_type": "display_data",
          "data": {
            "image/png": "[encoded data removed]",
            "text/plain": [
              "<Figure size 432x288 with 1 Axes>"
            ]
          },
          "metadata": {
            "tags": [],
            "image/png": {
              "width": 380,
              "height": 248
            },
            "needs_background": "light"
          }
        }
      ]
    },
    {
      "cell_type": "code",
      "metadata": {
        "id": "quEsn84-9Gsy"
      },
      "source": [
        ""
      ],
      "execution_count": null,
      "outputs": []
    },
    {
      "cell_type": "code",
      "metadata": {
        "colab": {
          "base_uri": "https://localhost:8080/",
          "height": 282
        },
        "id": "yaT3Wk9z9g1h",
        "outputId": "49914d3c-bfba-47b0-a91a-5e24806df3f8"
      },
      "source": [
        "%matplotlib inline\n",
        "%config InlineBackend.figure_format = 'retina'\n",
        "\n",
        "import matplotlib.pyplot as plt\n",
        "\n",
        "plt.plot(train_losses, label='Training loss')\n",
        "plt.plot(test_losses, label='Validation loss')\n",
        "plt.legend(frameon=False)"
      ],
      "execution_count": 16,
      "outputs": [
        {
          "output_type": "execute_result",
          "data": {
            "text/plain": [
              "<matplotlib.legend.Legend at 0x7f51c4a35d90>"
            ]
          },
          "metadata": {
            "tags": []
          },
          "execution_count": 16
        },
        {
          "output_type": "display_data",
          "data": {
            "image/png": "[encoded data removed]",
            "text/plain": [
              "<Figure size 432x288 with 1 Axes>"
            ]
          },
          "metadata": {
            "tags": [],
            "image/png": {
              "width": 378,
              "height": 248
            },
            "needs_background": "light"
          }
        }
      ]
    }
  ]
}